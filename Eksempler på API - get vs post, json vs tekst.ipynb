{
 "cells": [
  {
   "cell_type": "code",
   "execution_count": 1,
   "metadata": {},
   "outputs": [],
   "source": [
    "import requests"
   ]
  },
  {
   "cell_type": "code",
   "execution_count": 7,
   "metadata": {},
   "outputs": [],
   "source": [
    "def wilcard(word):\n",
    "    res = requests.get('https://api.nb.no/ngram/wildcards',params={'word': word, 'factor':3, 'limit':50, 'freq_lim':10})\n",
    "    return res.json()"
   ]
  },
  {
   "cell_type": "code",
   "execution_count": 28,
   "metadata": {},
   "outputs": [],
   "source": [
    "def freq(urn, words='i på'.split()):\n",
    "    res = requests.post('https://api.nb.no/ngram/freq', json={'words': words, 'urn':urn, 'tullball':14})\n",
    "    return res.json()"
   ]
  },
  {
   "cell_type": "code",
   "execution_count": 29,
   "metadata": {},
   "outputs": [
    {
     "data": {
      "text/plain": [
       "[['hva', 1], ['i', 157], ['på', 46]]"
      ]
     },
     "execution_count": 29,
     "metadata": {},
     "output_type": "execute_result"
    }
   ],
   "source": [
    "freq(\"2010031605005\", words='i på hva'.split())"
   ]
  },
  {
   "cell_type": "code",
   "execution_count": 9,
   "metadata": {},
   "outputs": [
    {
     "data": {
      "text/plain": [
       "{'kj??rlighet': 867,\n",
       " 'kj??rlighet,': 274,\n",
       " 'kj??rlighet.': 309,\n",
       " 'kj??rligheten': 452,\n",
       " 'kjaerlighet': 985,\n",
       " 'kjaerligheten': 265,\n",
       " 'kjarlighet': 1069,\n",
       " 'kjarligheten': 276,\n",
       " 'kjasrlighet': 159,\n",
       " 'kjcerlighet': 2721,\n",
       " 'kjcerligheten': 712,\n",
       " 'kjcerlighetens': 223,\n",
       " 'kjerlighet': 320,\n",
       " 'kjxrlighet': 191,\n",
       " 'kjærlighet': 1148166,\n",
       " 'kjærlighet!': 530,\n",
       " 'kjærlighet,': 13653,\n",
       " 'kjærlighet-på-': 259,\n",
       " 'kjærlighet.': 14107,\n",
       " 'kjærlighet.»': 697,\n",
       " 'kjærlighet:': 266,\n",
       " 'kjærlighet;': 441,\n",
       " 'kjærlighet?': 1120,\n",
       " 'kjærligheta': 2087,\n",
       " 'kjærligheten': 316328,\n",
       " 'kjærligheten,': 3704,\n",
       " 'kjærligheten.': 3772,\n",
       " 'kjærligheten.»': 206,\n",
       " 'kjærligheten?': 404,\n",
       " 'kjærlighetene': 271,\n",
       " 'kjærlighetens': 84321,\n",
       " 'kjærligheter': 1288,\n",
       " 'kjærlighets': 20626,\n",
       " 'kjærlighets-': 2616,\n",
       " 'kjærlighetsakt': 731,\n",
       " 'kjærlighetsbud': 1459,\n",
       " 'kjærlighetsgud': 592,\n",
       " 'kjærlighetshat': 684,\n",
       " 'kjærlighetslek': 467,\n",
       " 'kjærlighetsliv': 7844,\n",
       " 'kjærlighetsløs': 1034,\n",
       " 'kjærlighetsord': 657,\n",
       " 'kjærlighetspar': 1074,\n",
       " 'kjærlighetsrus': 378,\n",
       " 'kjærlighetssyk': 515,\n",
       " 'kjærlighetssyn': 251,\n",
       " 'kjærlighetstap': 234,\n",
       " 'kjærlighet»': 373,\n",
       " 'kjærlighet»,': 168,\n",
       " 'kjærlighet».': 247}"
      ]
     },
     "execution_count": 9,
     "metadata": {},
     "output_type": "execute_result"
    }
   ],
   "source": [
    "wilcard('kj*rlighet*')"
   ]
  }
 ],
 "metadata": {
  "kernelspec": {
   "display_name": "Python 3",
   "language": "python",
   "name": "python3"
  },
  "language_info": {
   "codemirror_mode": {
    "name": "ipython",
    "version": 3
   },
   "file_extension": ".py",
   "mimetype": "text/x-python",
   "name": "python",
   "nbconvert_exporter": "python",
   "pygments_lexer": "ipython3",
   "version": "3.6.5"
  }
 },
 "nbformat": 4,
 "nbformat_minor": 2
}
